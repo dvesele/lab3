{
  "metadata": {
    "kernelspec": {
      "name": "python",
      "display_name": "Python (Pyodide)",
      "language": "python"
    },
    "language_info": {
      "codemirror_mode": {
        "name": "python",
        "version": 3
      },
      "file_extension": ".py",
      "mimetype": "text/x-python",
      "name": "python",
      "nbconvert_exporter": "python",
      "pygments_lexer": "ipython3",
      "version": "3.8"
    }
  },
  "nbformat_minor": 5,
  "nbformat": 4,
  "cells": [
    {
      "id": "3085ec43-34bb-4afb-9515-517e0489db3e",
      "cell_type": "markdown",
      "source": "## Классические алгоритмы без ансамблирования\nВ этом ноутбуке вам нужно обучить модели на датасете классификации из предыдущего ноутбука и сравнить результаты. Вам будет предоставлен baseline, на основе которого вы будете доделывать предсказывающие модели. Оценка лабы будет зависеть от ROC-AUC на тестовых данных по следующим критериям:\n\\\nAUC - на тестовых данных\n- $AUC \\leq 0.75$ - 0 баллов\n- $0.75 < AUC \\leq 0.76$ - 2 балла\n- $0.76 < AUC \\leq 0.77$ - 4 балла\n- $0.77 < AUC \\leq 0.78$ - 6 баллов\n- $0.78 < AUC \\leq 0.79$ - 8 баллов\n- $AUC > 0.79$ - 10 баллов\n\n\\\nВ этой работе запрещено использовать ансамбли моделей (лес, бустинги и т.д.)!",
      "metadata": {
        "tags": [],
        "editable": true,
        "slideshow": {
          "slide_type": ""
        }
      }
    },
    {
      "id": "ec07e3a2-480a-4350-868e-02679ff2aada",
      "cell_type": "code",
      "source": "from sklearn.linear_model import LogisticRegression\nfrom sklearn.tree import DecisionTreeClassifier\nfrom sklearn.neighbors import KNeighborsClassifier\n\nfrom sklearn.metrics import roc_auc_score, precision_score, recall_score, roc_curve, accuracy_score\n\nfrom sklearn.model_selection import train_test_split\n\nimport matplotlib.pyplot as plt\nimport pandas as pd\nimport numpy as np",
      "metadata": {
        "trusted": true
      },
      "outputs": [],
      "execution_count": 3
    },
    {
      "id": "563ad31b-5c83-4366-819a-34dad4edecdc",
      "cell_type": "code",
      "source": "data = pd.read_csv('german.csv', sep=';')\nprint(data.head())\n\nX = data.iloc[:, 1:].to_numpy()\ny = data.iloc[:, 0].to_numpy()\n\nX_train, X_test, y_train, y_test = train_test_split(X, y, test_size=0.2, random_state=42)",
      "metadata": {
        "trusted": true
      },
      "outputs": [
        {
          "name": "stdout",
          "output_type": "stream",
          "text": "   Creditability  Account_Balance  Duration_of_Credit_monthly  \\\n0              1                1                          18   \n1              1                1                           9   \n2              1                2                          12   \n3              1                1                          12   \n4              1                1                          12   \n\n   Payment_Status_of_Previous_Credit  Purpose  Credit_Amount  \\\n0                                  4        2           1049   \n1                                  4        0           2799   \n2                                  2        9            841   \n3                                  4        0           2122   \n4                                  4        0           2171   \n\n   Value_Savings_Stocks  Length_of_current_employment  Instalment_per_cent  \\\n0                     1                             2                    4   \n1                     1                             3                    2   \n2                     2                             4                    2   \n3                     1                             3                    3   \n4                     1                             3                    4   \n\n   Sex_Marital_Status  ...  Duration_in_Current_address  \\\n0                   2  ...                            4   \n1                   3  ...                            2   \n2                   2  ...                            4   \n3                   3  ...                            2   \n4                   3  ...                            4   \n\n   Most_valuable_available_asset  Age_years  Concurrent_Credits  \\\n0                              2         21                   3   \n1                              1         36                   3   \n2                              1         23                   3   \n3                              1         39                   3   \n4                              2         38                   1   \n\n   Type_of_apartment  No_of_Credits_at_this_Bank  Occupation  \\\n0                  1                           1           3   \n1                  1                           2           3   \n2                  1                           1           2   \n3                  1                           2           2   \n4                  2                           2           2   \n\n   No_of_dependents  Telephone  Foreign_Worker  \n0                 1          1               1  \n1                 2          1               1  \n2                 1          1               1  \n3                 2          1               2  \n4                 1          1               2  \n\n[5 rows x 21 columns]\n"
        }
      ],
      "execution_count": 2
    },
    {
      "id": "f93737ec-e5eb-4d72-8beb-5dba4d4c581f",
      "cell_type": "code",
      "source": "plt.hist(y_train, bins=2, edgecolor='k')\nplt.xticks([0, 1])\nplt.xlabel('Class (0: Non-Creditworthy, 1: Creditworthy)')\nplt.ylabel('Count')\nplt.title('Distribution of Classes in Training Data')\nplt.show()",
      "metadata": {},
      "outputs": [],
      "execution_count": null
    },
    {
      "id": "1ccf0690-1d07-4026-85f2-674c5688d4d0",
      "cell_type": "code",
      "source": "Корреляция между когнитивными способностями и объемом мозга обусловлена влиянием размера мозга на эффективность нейронных процессов, лежащих в основе интеллектаЯЯ",
      "metadata": {},
      "outputs": [],
      "execution_count": null
    },
    {
      "id": "c2ebd8b0-3f81-4365-9f84-44bf50bbcbe4",
      "cell_type": "code",
      "source": "y_prob_logistic = logistic_regression_model.predict_proba(X_test)[:, 1]\ny_prob_decision_tree = decision_tree_model.predict_proba(X_test)[:, 1]\ny_prob_knn = knn_model.predict_proba(X_test)[:, 1]\n\ny_pred_logistic = logistic_regression_model.predict(X_test)\ny_pred_decision_tree = decision_tree_model.predict(X_test)\ny_pred_knn = knn_model.predict(X_test)\n\naccuracy_logistic = accuracy_score(y_test, y_pred_logistic)\naccuracy_decision_tree = accuracy_score(y_test, y_pred_decision_tree)\naccuracy_knn = accuracy_score(y_test, y_pred_knn)\n\nroc_auc_logistic = roc_auc_score(y_test, y_prob_logistic)\nroc_auc_decision_tree = roc_auc_score(y_test, y_prob_decision_tree)\nroc_auc_knn = roc_auc_score(y_test, y_prob_knn)\n\nprecision_logistic = precision_score(y_test, y_pred_logistic)\nprecision_decision_tree = precision_score(y_test, y_pred_decision_tree)\nprecision_knn = precision_score(y_test, y_pred_knn)\n\nrecall_logistic = recall_score(y_test, y_pred_logistic)\nrecall_decision_tree = recall_score(y_test, y_pred_decision_tree)\nrecall_knn = recall_score(y_test, y_pred_knn)\n\nprint(f'Accuracy of Logistic Regression: {accuracy_logistic}')\nprint(f'Accuracy of Decision Tree: {accuracy_decision_tree}')\nprint(f'Accuracy of K-Nearest Neighbors: {accuracy_knn}')\n\nprint(f'ROC AUC of Logistic Regression: {roc_auc_logistic}')\nprint(f'ROC AUC of Decision Tree: {roc_auc_decision_tree}')\nprint(f'ROC AUC of K-Nearest Neighbors: {roc_auc_knn}')\n\nprint(f'Precision of Logistic Regression: {precision_logistic}')\nprint(f'Precision of Decision Tree: {precision_decision_tree}')\nprint(f'Precision of K-Nearest Neighbors: {precision_knn}')\n\nprint(f'Recall of Logistic Regression: {recall_logistic}')\nprint(f'Recall of Decision Tree: {recall_decision_tree}')\nprint(f'Recall of K-Nearest Neighbors: {recall_knn}')",
      "metadata": {},
      "outputs": [],
      "execution_count": null
    },
    {
      "id": "d2d6eb00-77fd-40dc-a3c5-35c1fe0200c0",
      "cell_type": "markdown",
      "source": "## Экспериментируйте\nДля получения лучшего качества придется поэкспериментировать. Подсказка: попробуйте оптимизировать гиперпараметры модели",
      "metadata": {}
    }
  ]
}